{
 "cells": [
  {
   "cell_type": "code",
   "execution_count": null,
   "id": "protected-valentine",
   "metadata": {},
   "outputs": [],
   "source": [
    "import tensorflow as tf\n",
    "import os \n",
    "import re\n",
    "import pandas as pd "
   ]
  },
  {
   "cell_type": "code",
   "execution_count": null,
   "id": "engaged-sustainability",
   "metadata": {},
   "outputs": [],
   "source": [
    "#sections = [0:Politics, 1:Technology, 2:Entertainment, 3:Business]\n",
    "train = pd.read_excel('Data_Train.xlsx')\n",
    "train.head()"
   ]
  },
  {
   "cell_type": "code",
   "execution_count": null,
   "id": "derived-shooting",
   "metadata": {},
   "outputs": [],
   "source": [
    "#considering 20% to train the model\n",
    "train = train.sample(frac=0.30)"
   ]
  },
  {
   "cell_type": "code",
   "execution_count": null,
   "id": "referenced-profession",
   "metadata": {},
   "outputs": [],
   "source": [
    "from simpletransformers.classification import ClassificationModel\n",
    "model = ClassificationModel('roberta','roberta-base',num_labels=4,use_cuda=False)"
   ]
  },
  {
   "cell_type": "code",
   "execution_count": null,
   "id": "hindu-operations",
   "metadata": {},
   "outputs": [],
   "source": [
    "model.train_model(train)"
   ]
  },
  {
   "cell_type": "code",
   "execution_count": null,
   "id": "democratic-brooks",
   "metadata": {},
   "outputs": [],
   "source": [
    "#evaluating the model with an example : \n",
    "predictions,_ = model.predict([\"I went to gadget shop yesterday.\"])\n",
    "int(predictions)"
   ]
  },
  {
   "cell_type": "code",
   "execution_count": null,
   "id": "maritime-budget",
   "metadata": {},
   "outputs": [],
   "source": [
    "#saving and exporting the model \n",
    "import pickle as pkl\n",
    "filename = \"model.pkl\"\n",
    "pkl.dump(model, open(filename,\"wb\"))"
   ]
  },
  {
   "cell_type": "code",
   "execution_count": null,
   "id": "accepting-estate",
   "metadata": {},
   "outputs": [],
   "source": [
    "model = pkl.load(open('model.pkl','rb'))"
   ]
  },
  {
   "cell_type": "code",
   "execution_count": null,
   "id": "rental-future",
   "metadata": {},
   "outputs": [],
   "source": [
    "import speech_recognition as sr\n",
    "\n",
    "r=sr.Recognizer()\n",
    "print(sr.Microphone.list_microphone_names())\n",
    "\n",
    "with sr.Microphone() as source:\n",
    "    r.adjust_for_ambient_noise(source,duration=1)\n",
    "    # r.energy_threshold()\n",
    "    print(\"Hey, Say something, your voice is recording : \")\n",
    "    audio= r.listen(source)\n",
    "    try:\n",
    "        text = r.recognize_google(audio)\n",
    "        print(\"You said :: {}\".format(text))\n",
    "        predictions,_ = model.predict([text.strip()])\n",
    "    except:\n",
    "        print(\"sorry, could not recognise\")\n",
    "        \n",
    "    print(int(predictions))\n",
    "    if int(predictions) == 0:\n",
    "        print(\"You spoke about Politics!\")\n",
    "    elif int(predictions) == 1:\n",
    "        print(\"You spoke about Technology!\")\n",
    "    elif int(predictions) == 2:\n",
    "        print(\"You spoke about Entertainment!\")\n",
    "    else:\n",
    "        print(\"You spoke about Business!\")"
   ]
  }
 ],
 "metadata": {
  "kernelspec": {
   "display_name": "Python 3",
   "language": "python",
   "name": "python3"
  },
  "language_info": {
   "codemirror_mode": {
    "name": "ipython",
    "version": 3
   },
   "file_extension": ".py",
   "mimetype": "text/x-python",
   "name": "python",
   "nbconvert_exporter": "python",
   "pygments_lexer": "ipython3",
   "version": "3.8.5"
  }
 },
 "nbformat": 4,
 "nbformat_minor": 5
}
